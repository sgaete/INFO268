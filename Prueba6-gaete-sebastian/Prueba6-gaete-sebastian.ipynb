{
 "cells": [
  {
   "cell_type": "code",
   "execution_count": 76,
   "metadata": {},
   "outputs": [
    {
     "name": "stdout",
     "output_type": "stream",
     "text": [
      "Got 354000 Hits:\n",
      "2018-05-26 19:38:58+00:00\n",
      "Sat May 26 19:38:58 +0000 2018\n",
      "--------------\n",
      "2018-05-26 20:21:48+00:00\n",
      "Sat May 26 20:21:48 +0000 2018\n",
      "--------------\n",
      "2018-05-26 20:21:48+00:00\n",
      "Sat May 26 20:21:48 +0000 2018\n",
      "--------------\n",
      "2018-05-26 19:26:19+00:00\n",
      "Sat May 26 19:26:19 +0000 2018\n",
      "--------------\n",
      "2018-05-26 18:49:13+00:00\n",
      "Sat May 26 18:49:13 +0000 2018\n",
      "--------------\n",
      "2018-05-26 20:31:32+00:00\n",
      "Sat May 26 20:31:32 +0000 2018\n",
      "--------------\n",
      "2018-05-26 19:15:31+00:00\n",
      "Sat May 26 19:15:31 +0000 2018\n",
      "--------------\n",
      "2018-05-26 20:09:07+00:00\n",
      "Sat May 26 20:09:07 +0000 2018\n",
      "--------------\n",
      "2018-05-26 19:54:25+00:00\n",
      "Sat May 26 19:54:25 +0000 2018\n",
      "--------------\n",
      "2018-05-26 19:23:43+00:00\n",
      "Sat May 26 19:23:43 +0000 2018\n",
      "--------------\n"
     ]
    }
   ],
   "source": [
    "from elasticsearch import Elasticsearch\n",
    "from pprint import pprint\n",
    "from datetime import datetime  as dtime , timedelta\n",
    "from pandasticsearch import DataFrame\n",
    "\n",
    "es=Elasticsearch()\n",
    "res = es.search(index=\"tp5-championstweet\", body={\"query\": {\"match_all\": {}}})\n",
    "print(\"Got %d Hits:\" % res['hits']['total'])\n",
    "for hit in res['hits']['hits']:\n",
    "    #print(str(dtime.fromtimestamp(hit[\"_source\"]['timestamp']/1e3)+timedelta(hours=4)) +\"   \"+ str(hit[\"_source\"]['date']))\n",
    "    print(dtime.strptime(hit['_source']['date'],'%a %b %d %X %z %Y'))\n",
    "    print(hit['_source']['date'])\n",
    "    print(\"--------------\")"
   ]
  },
  {
   "cell_type": "code",
   "execution_count": 118,
   "metadata": {},
   "outputs": [],
   "source": [
    "import pandas as pd\n",
    "import matplotlib.pyplot as plt\n",
    "df = DataFrame.from_es(url='http://localhost:9200', index='tp5-championstweet')\n",
    "df = df.to_pandas()\n",
    "df['date']=df['date'].apply(lambda x: dtime.strptime(x,'%a %b %d %X %z %Y'))"
   ]
  },
  {
   "cell_type": "code",
   "execution_count": 119,
   "metadata": {},
   "outputs": [],
   "source": [
    "df.set_index('date',inplace=True)"
   ]
  },
  {
   "cell_type": "code",
   "execution_count": 123,
   "metadata": {},
   "outputs": [
    {
     "ename": "AttributeError",
     "evalue": "'DataFrameGroupBy' object has no attribute 'collect'",
     "output_type": "error",
     "traceback": [
      "\u001b[0;31m---------------------------------------------------------------------------\u001b[0m",
      "\u001b[0;31mAttributeError\u001b[0m                            Traceback (most recent call last)",
      "\u001b[0;32m<ipython-input-123-b546ace42f13>\u001b[0m in \u001b[0;36m<module>\u001b[0;34m()\u001b[0m\n\u001b[0;32m----> 1\u001b[0;31m \u001b[0mdf\u001b[0m\u001b[0;34m.\u001b[0m\u001b[0mgroupby\u001b[0m\u001b[0;34m(\u001b[0m\u001b[0;34m'location'\u001b[0m\u001b[0;34m)\u001b[0m\u001b[0;34m.\u001b[0m\u001b[0mcollect\u001b[0m\u001b[0;34m(\u001b[0m\u001b[0;34m)\u001b[0m\u001b[0;34m\u001b[0m\u001b[0m\n\u001b[0m",
      "\u001b[0;32m~/Escritorio/Entornos/INFO268/lib/python3.6/site-packages/pandas/core/groupby/groupby.py\u001b[0m in \u001b[0;36m__getattr__\u001b[0;34m(self, attr)\u001b[0m\n\u001b[1;32m    763\u001b[0m \u001b[0;34m\u001b[0m\u001b[0m\n\u001b[1;32m    764\u001b[0m         raise AttributeError(\"%r object has no attribute %r\" %\n\u001b[0;32m--> 765\u001b[0;31m                              (type(self).__name__, attr))\n\u001b[0m\u001b[1;32m    766\u001b[0m \u001b[0;34m\u001b[0m\u001b[0m\n\u001b[1;32m    767\u001b[0m     @Substitution(klass='GroupBy',\n",
      "\u001b[0;31mAttributeError\u001b[0m: 'DataFrameGroupBy' object has no attribute 'collect'"
     ]
    }
   ],
   "source": [
    "df.groupby('location').collect()"
   ]
  },
  {
   "cell_type": "code",
   "execution_count": null,
   "metadata": {},
   "outputs": [],
   "source": []
  }
 ],
 "metadata": {
  "kernelspec": {
   "display_name": "Python 3",
   "language": "python",
   "name": "python3"
  },
  "language_info": {
   "codemirror_mode": {
    "name": "ipython",
    "version": 3
   },
   "file_extension": ".py",
   "mimetype": "text/x-python",
   "name": "python",
   "nbconvert_exporter": "python",
   "pygments_lexer": "ipython3",
   "version": "3.6.5"
  }
 },
 "nbformat": 4,
 "nbformat_minor": 2
}
