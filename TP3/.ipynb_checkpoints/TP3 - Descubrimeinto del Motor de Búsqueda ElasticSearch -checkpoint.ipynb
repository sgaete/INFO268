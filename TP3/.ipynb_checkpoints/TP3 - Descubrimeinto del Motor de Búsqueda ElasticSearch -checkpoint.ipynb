{
 "cells": [
  {
   "cell_type": "markdown",
   "metadata": {},
   "source": [
    "# TP3- Descubrimiento del Motor de Búsqueda ElasticSearch"
   ]
  },
  {
   "cell_type": "markdown",
   "metadata": {},
   "source": [
    "## 1) Preguntas:\n",
    "\n",
    "1.1 ¿ElasticSearch es un SGBD de nueva generación? Qué es un motor de búsqueda?\n",
    "    <b><p>-Si, pues es un motor distribuido, opensource, de busqueda restful y analitica.</p>\n",
    "    <p>-Sistema informatico que busca archivos en un servidor web.</p></b>\n",
    "\n",
    "1.2 ¿Cuáles son sus principales caracteristicas? ¿Qué modelo lógico de datos utiliza?\n",
    "    <b><p>-Es distribuido, opensourcem, provee busquedas restful, y servicios de analitica.</p>\n",
    "    <p>-Documentos estructurados</p></b>\n",
    "\n",
    "1.3 ¿Cuáles son los puntos similares y las diferencias con el SGBD Mongo?\n",
    "    <b><p>-Ambos tienen funciones CRUD y sus datos son documentos estructurados, esta mas enfocado a clusterizar las operaciones.</p></b>\n",
    "\n",
    "1.4 ¿Cuál es la fecha de su primera versión? ¿Cuál es la frecuencia de aparación de nuevas versiones?\n",
    "    <b><p>-El 08/02/2010</p>\n",
    "    <p>-En un principio las realeases eran cada 1 mes y actualmente aproximadamente cada 2.</p></b>\n",
    "\n",
    "1.5 ¿Cuál es su licencia? Cuáles son las principales caracteristicas de esta licencia?\n",
    "    <b><p>-Licencia Apache</p>\n",
    "    <p>-La licencia permite al usuario del software la libertad de usar el software para cualquier propósito, para distribuirlo, modificarlo y distribuir versiones modificadas del software, bajo los términos de la licencia, sin preocuparse de las regalías.</p></b>\n",
    "\n",
    "1.6 ¿Qué empresas o productos utilizan ElasticSearch? Cuáles son los casos de uso habituales?\n",
    "    <b><p>-Netflix, Adobe System, Discord, Mozilla, Github y muchos más.</p></b>\n",
    "\n",
    "1.7 ¿Cuáles son los otros productos desarrollados en la organización Elastic?\n",
    "    <b><p>-Kibana, Beats, Logstash, APM, X-Pack, Elastic Cloud, Elastic Cloud Enterprise, ES-Hadoop</p></b>\n",
    "\n",
    "<b>Enlaces utiles</b>:\n",
    "\n",
    "https://www.elastic.co/products/elasticsearch\n",
    "\n",
    "https://en.wikipedia.org/wiki/Elasticsearch\n",
    "\n",
    "https://db-engines.com/en/ranking"
   ]
  },
  {
   "cell_type": "markdown",
   "metadata": {},
   "source": [
    "## 2) Instalar ElasticSearch\n",
    "\n",
    "2.1 Descargar e instalar ElasticSearch 6.2 (https://www.elastic.co/downloads/elasticsearch)\n",
    "\n",
    "2.2 Ejecutar ElasticSearch (bin/elasticsearch) con la configuración por defecto\n",
    "\n",
    "2.3 En un terminal, ejecutar el comando siguiente:\n",
    "\n",
    "curl -X GET \"http://localhost:9200/_cat/health?v\"\n",
    "\n",
    "De qué sirve el software CURL?\n",
    "Cuantos nodos y shards tiene su instalación de ElasticSearch? Cómo se llama su cluster?\n",
    "<b><p>-Es un programa que sirve para hacer transferencia de archivos, soporta varios protocolos de intercambio, entre los más comunes estan HTTP, HTTPS, FTP, entre otros.</p>\n",
    "<p>-node.total = 1</p>\n",
    "<p>-shards = 0</p>\n",
    "<p>-cluster = elasticsearch</p>\n",
    "</b>\n",
    "\n",
    "<b>Enlaces utiles:</b>\n",
    "\n",
    "https://www.elastic.co/guide/en/elasticsearch/reference/current/_cluster_health.html"
   ]
  },
  {
   "cell_type": "markdown",
   "metadata": {},
   "source": [
    "## 3) Operaciones CRUD básicas"
   ]
  },
  {
   "cell_type": "markdown",
   "metadata": {},
   "source": [
    "3.1 Listar los indices disponibles en el cluster curl -X GET http://localhost:9200/_cat/indices?v\n",
    "<b><p>health status index uuid pri rep docs.count docs.deleted store.size pri.store.size</p></b>\n",
    "\n",
    "3.2 Seguir el \"Getting Started\" de la documentación de ElasticSearch a partir de la sección \n",
    "siguiente: https://www.elastic.co/guide/en/elasticsearch/reference/current/_list_all_indices.html\n"
   ]
  },
  {
   "cell_type": "markdown",
   "metadata": {},
   "source": [
    "## 4) Ejemplo de Aplicación en Python utilizando ElasticSearch\n",
    "Para ayudar la comunidad científica de la UACh, proponemos desarrollar un motor de búsqueda de los artículos científicos escritos por la comunidad UACh.\n",
    "\n",
    "4.1 Buscar en Internet (por ejemplo en el sitio \"Web Of Science\": http://apps.webofknowledge.com) algunos articulos científicos escritos por académicos de la UACh y copiar cada resumen de artículo en un archivo texto. "
   ]
  },
  {
   "cell_type": "markdown",
   "metadata": {},
   "source": [
    "4.2 Desde Python, conectarse a su cluster ElasticSearch y crear un indice \"articulo-uach\""
   ]
  },
  {
   "cell_type": "markdown",
   "metadata": {},
   "source": [
    "4.3 Indexar los archivos textos recopilados con algunos metadatos adicionales"
   ]
  },
  {
   "cell_type": "markdown",
   "metadata": {},
   "source": [
    "4.4 Consultas"
   ]
  },
  {
   "cell_type": "code",
   "execution_count": 21,
   "metadata": {},
   "outputs": [
    {
     "name": "stdout",
     "output_type": "stream",
     "text": [
      "{'fecha': '2018-05-01T19:39:23.927577', 'resumen': '', 'titulo': ''}\n",
      "{'fecha': '2018-05-01T19:39:24.073009', 'resumen': '', 'titulo': ''}\n",
      "{'fecha': '2018-05-01T19:39:24.140524', 'resumen': '', 'titulo': ''}\n",
      "{'fecha': '2018-05-01T19:39:24.189604', 'resumen': '', 'titulo': ''}\n"
     ]
    }
   ],
   "source": [
    "from datetime import datetime\n",
    "from elasticsearch import Elasticsearch\n",
    "from pprint import pprint as pp\n",
    "es = Elasticsearch()\n",
    "#para comprobar el estado del cluster\n",
    "#pp(es.cluster.health()) \n",
    "\n",
    "#para crear el indice\n",
    "if not(es.indices.exists(index=\"articulo-uach\")):\n",
    "    res = es.indices.create(index=\"articulo-uach\")  \n",
    "    pp(res)\n",
    "\n",
    "a=[]\n",
    "for i in range(4):\n",
    "    a.append({'titulo': '', 'resumen': '', 'fecha': datetime.now()},)\n",
    "    es.index(index=\"articulo-uach\", doc_type=\"_doc\", id=i+1, body=a[i])\n",
    "    #print(a[i])\n",
    "    pp(es.get_source(index=\"articulo-uach\", doc_type=\"_doc\", id=i+1))\n"
   ]
  }
 ],
 "metadata": {
  "kernelspec": {
   "display_name": "Python 3",
   "language": "python",
   "name": "python3"
  },
  "language_info": {
   "codemirror_mode": {
    "name": "ipython",
    "version": 3
   },
   "file_extension": ".py",
   "mimetype": "text/x-python",
   "name": "python",
   "nbconvert_exporter": "python",
   "pygments_lexer": "ipython3",
   "version": "3.6.5"
  }
 },
 "nbformat": 4,
 "nbformat_minor": 2
}
