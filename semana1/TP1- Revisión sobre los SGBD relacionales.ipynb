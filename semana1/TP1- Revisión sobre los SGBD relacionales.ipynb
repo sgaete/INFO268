{
 "cells": [
  {
   "cell_type": "markdown",
   "metadata": {},
   "source": [
    "# TP1- Revision sobre los SGBD relacionales"
   ]
  },
  {
   "cell_type": "markdown",
   "metadata": {},
   "source": [
    "Para revisar algunos conceptos de los SGBD relacionales (en particular el modelo relacional y el lenguaje SQL), vamos a crear una pequeña Base de Datos relacional desde un programa en Python y a partir de datos que se encuentran en varios archivos textos.\n",
    "\n",
    "La base de datos que queremos construir está representada por el modelo Entidad-Asociación siguiente:"
   ]
  },
  {
   "cell_type": "markdown",
   "metadata": {},
   "source": [
    "<img src=\"modeloEA-1.png\">"
   ]
  },
  {
   "cell_type": "markdown",
   "metadata": {},
   "source": [
    "## 1. Transformación del Modelo Entidad-Asociación hacia Modelo Relacional\n",
    "\n",
    "Proponer un modelo relacional que corresponde al modelo Entidad-Asociación."
   ]
  },
  {
   "cell_type": "markdown",
   "metadata": {},
   "source": [
    "Medios Prensa(PK Nombre, Dueño, Numero followers)\n",
    "Noticias(PK ID, Titulo, Texto, fecha, #Nombre)"
   ]
  },
  {
   "cell_type": "markdown",
   "metadata": {},
   "source": [
    "## 2. Crear la estructura de la base de datos desde un programa Python"
   ]
  },
  {
   "cell_type": "markdown",
   "metadata": {},
   "source": [
    "### 2.1 Conectarse a MySQL desde Python"
   ]
  },
  {
   "cell_type": "code",
   "execution_count": 1,
   "metadata": {},
   "outputs": [],
   "source": [
    "import mysql.connector\n",
    "cnx = mysql.connector.connect(user='root', password='root', host='127.0.0.1')\n",
    "cursor = cnx.cursor()\n",
    "try:\n",
    "    cursor.execute('CREATE DATABASE tallerdb1')\n",
    "except Exception as db_creation:\n",
    "    print(db_creation)\n",
    "cnx.close()"
   ]
  },
  {
   "cell_type": "markdown",
   "metadata": {},
   "source": [
    "### 2.2 Crear las tablas"
   ]
  },
  {
   "cell_type": "code",
   "execution_count": 2,
   "metadata": {},
   "outputs": [],
   "source": [
    "cnx = mysql.connector.connect(user='root', password='root', host='127.0.0.1', database='tallerdb1')\n",
    "cursor = cnx.cursor()\n",
    "query = (\"CREATE TABLE `medio_prensa` (\"\n",
    "        \"  `nombre` varchar(100) NOT NULL,\"\n",
    "        \"  `dueno` varchar(100) NOT NULL,\"\n",
    "        \"  `numero_followers` int(11) NOT NULL DEFAULT 0,\"\n",
    "        \"  PRIMARY KEY (`nombre`))\")\n",
    "try:\n",
    "    cursor.execute(query)\n",
    "except Exception as tbl_creation:\n",
    "    print(tbl_creation)\n",
    "query = (\"CREATE TABLE `noticia` (\"\n",
    "        \"  `id` int(11) NOT NULL AUTO_INCREMENT,\"\n",
    "        \"  `titulo` varchar(255) NOT NULL,\"\n",
    "        \"  `texto` text NOT NULL,\"\n",
    "        \"  `fecha` datetime NOT NULL,\"\n",
    "        \"  `nombre` varchar(100) NOT NULL,\" \n",
    "        \"  PRIMARY KEY (`id`),\"\n",
    "        \"  FOREIGN KEY (`nombre`) REFERENCES medio_prensa(`nombre`))\")\n",
    "try:\n",
    "    cursor.execute(query)\n",
    "except Exception as tbl_creation:\n",
    "    print(tbl_creation)"
   ]
  },
  {
   "cell_type": "markdown",
   "metadata": {},
   "source": [
    "# 3. Insertar los datos en la base de datos"
   ]
  },
  {
   "cell_type": "markdown",
   "metadata": {},
   "source": [
    "## 3.1 Leer los archivos textos"
   ]
  },
  {
   "cell_type": "code",
   "execution_count": 163,
   "metadata": {},
   "outputs": [
    {
     "name": "stdout",
     "output_type": "stream",
     "text": [
      "['2017-02-28 23:09:06\\n', '24HorasTVN\\n', 'Casa misteriosa de Puerto Montt se convierte en atracción turística - Casa misteriosa de Puerto Montt se convierte en atracción turística - Redes Sociales - 24horas\\n', 'Masiva concurrencia a la misteriosa casa de Puerto Montt donde se registrarían supuestos sucesos paranormales. Masiva concurrencia a la misteriosa casa de Puerto Montt donde se registrarían supuestos sucesos paranormales.\\n', '----------\\n', '2017-02-09 18:30:02\\n']\n"
     ]
    }
   ],
   "source": [
    "noticias_f = open('noticias.txt', 'r')\n",
    "noticias=[]\n",
    "noticias = noticias_f.read().split('----------\\n')\n",
    "noticias_f.close()\n",
    "\n",
    "medios_f = open('medios.csv','r')\n",
    "medios=[]\n",
    "medios = medios_f.read().split('\\n')\n",
    "medios_f.close()\n",
    "    "
   ]
  },
  {
   "cell_type": "markdown",
   "metadata": {},
   "source": [
    "### 3.2 Leer los archivos textos y insertar los datos"
   ]
  },
  {
   "cell_type": "code",
   "execution_count": 3,
   "metadata": {},
   "outputs": [],
   "source": [
    "medios_f = open('medios.csv','r')\n",
    "medios=[]\n",
    "medios = medios_f.read().split('\\n')\n",
    "del medios[0]\n",
    "medios_f.close()\n",
    "cnx = mysql.connector.connect(user='root', password='root', host='127.0.0.1', database='tallerdb1')\n",
    "cursor = cnx.cursor()\n",
    "query=''\n",
    "\n",
    "for m in medios:\n",
    "    medio=m.split(',')\n",
    "    if len(medio)==3:\n",
    "        query=(\"INSERT INTO medio_prensa (nombre, dueno, numero_followers)\"\n",
    "               \"VALUES ('\"+medio[0]+\"','\"+ medio[1] +\"','\"+ medio[2] +\"');\")\n",
    "    else:\n",
    "        for i in range(2,len(medio)-1):\n",
    "            medio[1]+=','+medio[i]\n",
    "        query=(\"INSERT INTO medio_prensa (nombre, dueno, numero_followers)\"\n",
    "                \"VALUES ('\"+medio[0]+\"','\"+ medio[1] +\"','\"+ medio[len(medio)-1] +\"');\")\n",
    "    try:\n",
    "        cursor.execute(query)\n",
    "        #print(query)\n",
    "    except Exception as insertFail_m:\n",
    "        print(insertFail_m)\n",
    "noticias_f = open('noticias.txt', 'r')\n",
    "noticias=[]\n",
    "noticias = noticias_f.read().split('----------\\n')\n",
    "noticias_f.close()\n",
    "del noticias[len(noticias)-1]\n",
    "\n",
    "for n in noticias:\n",
    "    noticia=n.split('\\n')\n",
    "    query=(\"INSERT INTO noticia (fecha, nombre, titulo, texto)\"\n",
    "           \"VALUES ('\"+noticia[0]+\"','\"+ noticia[1] +\"','\"+ noticia[2] +\"','\"+ noticia[3] +\"');\")\n",
    "    \n",
    "    try:\n",
    "        cursor.execute(query)\n",
    "        #print(query)\n",
    "    except Exception as insertFail_n:\n",
    "        print(query,insertFail_n)\n",
    "cnx.commit()\n",
    "cursor.close()\n",
    "cnx.close()\n",
    "\n"
   ]
  },
  {
   "cell_type": "markdown",
   "metadata": {},
   "source": [
    "# 4. Consultar la base de datos"
   ]
  },
  {
   "cell_type": "markdown",
   "metadata": {},
   "source": [
    "Listar los medios de prensa en Chile ordenado según su número de followers en Twitter."
   ]
  },
  {
   "cell_type": "code",
   "execution_count": 4,
   "metadata": {},
   "outputs": [],
   "source": [
    "import mysql.connector\n",
    "cnx = mysql.connector.connect(user='root', password='root', host='127.0.0.1', database='tallerdb1')\n",
    "cursor = cnx.cursor()\n",
    "cursor.execute('SELECT * FROM medio_prensa ORDER BY numero_followers;')\n",
    "cnx.close()"
   ]
  },
  {
   "cell_type": "raw",
   "metadata": {},
   "source": [
    "Contar los dueños de medios de prensa en Chile."
   ]
  },
  {
   "cell_type": "code",
   "execution_count": 6,
   "metadata": {},
   "outputs": [],
   "source": [
    "import mysql.connector\n",
    "cnx = mysql.connector.connect(user='root', password='root', host='127.0.0.1', database='tallerdb1')\n",
    "cursor = cnx.cursor()\n",
    "    cursor.execute('SELECT COUNT(*) as Dueños FROM (SELECT dueno FROM medio_prensa GROUP BY dueno) as meh ;')\n",
    "cnx.close()"
   ]
  },
  {
   "cell_type": "markdown",
   "metadata": {},
   "source": [
    "Contar cuantes medios de prensa posee cada dueño."
   ]
  },
  {
   "cell_type": "code",
   "execution_count": 7,
   "metadata": {},
   "outputs": [],
   "source": [
    "import mysql.connector\n",
    "cnx = mysql.connector.connect(user='root', password='root', host='127.0.0.1', database='tallerdb1')\n",
    "cursor = cnx.cursor()\n",
    "cursor.execute('SELECT dueno as Dueño, count(*) as Numero FROM medio_prensa GROUP BY dueno;')\n",
    "cnx.close()"
   ]
  },
  {
   "cell_type": "markdown",
   "metadata": {},
   "source": [
    "Mostrar los últimos 10 títulos de noticias del medio \"La Tercera\""
   ]
  },
  {
   "cell_type": "code",
   "execution_count": 6,
   "metadata": {},
   "outputs": [],
   "source": [
    "import mysql.connector\n",
    "cnx = mysql.connector.connect(user='root', password='root', host='127.0.0.1', database='tallerdb1')\n",
    "cursor = cnx.cursor()\n",
    "cursor.execute('SELECT fecha FROM noticia WHERE nombre LIKE \"%la tercera%\" OR nombre LIKE \"%latercera%\" ORDER BY fecha DESC LIMIT 10;')\n",
    "cnx.close()"
   ]
  },
  {
   "cell_type": "markdown",
   "metadata": {},
   "source": [
    "Mostrar los nombre de medios y los títulos en los cuales aparacen la palabra \"Valdivia\"."
   ]
  },
  {
   "cell_type": "code",
   "execution_count": 12,
   "metadata": {},
   "outputs": [
    {
     "data": {
      "text/plain": [
       "Ellipsis"
      ]
     },
     "execution_count": 12,
     "metadata": {},
     "output_type": "execute_result"
    }
   ],
   "source": [
    "import mysql.connector\n",
    "cnx = mysql.connector.connect(user='root', password='root', host='127.0.0.1', database='tallerdb1')\n",
    "cursor = cnx.cursor()\n",
    "cursor.execute('SELECT nombre, titulo FROM noticia WHERE nombre LIKE \"%valdivia%\" OR titulo LIKE \"%valdivia%\";')\n",
    "cnx.close()"
   ]
  },
  {
   "cell_type": "markdown",
   "metadata": {},
   "source": [
    "Por cada medio, mostrar el número de títulos en los cuales aparecen la palabra \"Puerto Montt\"."
   ]
  },
  {
   "cell_type": "code",
   "execution_count": 14,
   "metadata": {},
   "outputs": [
    {
     "data": {
      "text/plain": [
       "Ellipsis"
      ]
     },
     "execution_count": 14,
     "metadata": {},
     "output_type": "execute_result"
    }
   ],
   "source": [
    "import mysql.connector\n",
    "cnx = mysql.connector.connect(user='root', password='root', host='127.0.0.1', database='tallerdb1')\n",
    "cursor = cnx.cursor()\n",
    "cursor.execute('SELECT nombre, count(*) FROM noticia WHERE titulo LIKE \"%puerto montt%\" OR titulo LIKE \"%puertomontt%\" GROUP BY nombre;')\n",
    "cnx.close()"
   ]
  }
 ],
 "metadata": {
  "kernelspec": {
   "display_name": "Python 3",
   "language": "python",
   "name": "python3"
  },
  "language_info": {
   "codemirror_mode": {
    "name": "ipython",
    "version": 3
   },
   "file_extension": ".py",
   "mimetype": "text/x-python",
   "name": "python",
   "nbconvert_exporter": "python",
   "pygments_lexer": "ipython3",
   "version": "3.5.2"
  }
 },
 "nbformat": 4,
 "nbformat_minor": 2
}
